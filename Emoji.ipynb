{
 "cells": [
  {
   "cell_type": "code",
   "execution_count": 1,
   "metadata": {},
   "outputs": [],
   "source": [
    "import numpy as np\n",
    "import emoji\n",
    "import re\n",
    "import encoder\n",
    "from scipy import spatial\n",
    "import nltk\n",
    "from nltk import word_tokenize\n",
    "from nltk.corpus import stopwords\n",
    "nltk.download('stopwords')"
   ]
  },
  {
   "cell_type": "code",
   "execution_count": 2,
   "metadata": {},
   "outputs": [],
   "source": [
    "class Emoji(object):\n",
    "    def __init__(self):\n",
    "        self.encoder = encoder.Encoder()\n",
    "        self.emoji_dict = emoji.unicode_codes.EMOJI_ALIAS_UNICODE\n",
    "        self.stopwords = stopwords.words('english')\n",
    "        self.stopwords.extend(['I','You', 'you', 'me','hello'])\n",
    "        self.vectors_encoded = self.emoji_encoded()\n",
    "        \n",
    "    def sentence_preprocessed(self, sentence):\n",
    "        tokenized_sentence = nltk.word_tokenize(sentence)\n",
    "        sentence = [w for w in tokenized_sentence if not w in self.stopwords]\n",
    "        return sentence\n",
    "    \n",
    "    def emoji_encoded(self):\n",
    "        emoji_list = list(self.emoji_dict.keys())\n",
    "        emoji_list = [re.sub(\"[: ()]\", \"\", i) for i in emoji_list]\n",
    "        emoji_list = [re.sub(\"[_ , ]\", \" \", i) for i in emoji_list]\n",
    "        list_encoded_emoji = [self.encoder.encode(i)[0] for i in emoji_list]\n",
    "        list_encoded_emoji = np.stack(list_encoded_emoji)\n",
    "        \n",
    "        return list_encoded_emoji\n",
    "    \n",
    "    def cosine_similarity_emoji(self, sentence, emoji):\n",
    "\n",
    "        output_similarity = self.encoder.cosine_similarity(self.encoder.encode(sentence),emoji)\n",
    "        if np.min(output_similarity[1]) < 0.3:\n",
    "            emoji_index = np.argmin(output_similarity[1])\n",
    "            output = list(self.emoji_dict.values())[emoji_index]\n",
    "            return output\n",
    "        else:\n",
    "            return None\n",
    "    \n",
    "    def output_emoji(self, sentence):\n",
    "        sentence_preprocessed = self.sentence_preprocessed(sentence)\n",
    "        output = self.cosine_similarity_emoji(sentence_preprocessed, self.vectors_encoded)\n",
    "        return output"
   ]
  },
  {
   "cell_type": "code",
   "execution_count": 3,
   "metadata": {},
   "outputs": [],
   "source": [
    "emoji = Emoji()"
   ]
  },
  {
   "cell_type": "code",
   "execution_count": 10,
   "metadata": {},
   "outputs": [
    {
     "data": {
      "text/plain": [
       "'🐱'"
      ]
     },
     "execution_count": 10,
     "metadata": {},
     "output_type": "execute_result"
    }
   ],
   "source": [
    "emoji.output_emoji('I like cats')"
   ]
  },
  {
   "cell_type": "code",
   "execution_count": 2,
   "metadata": {},
   "outputs": [],
   "source": [
    "emoji_dict = emoji.unicode_codes.EMOJI_ALIAS_UNICODE"
   ]
  }
 ],
 "metadata": {
  "kernelspec": {
   "display_name": "Python 3",
   "language": "python",
   "name": "python3"
  },
  "language_info": {
   "codemirror_mode": {
    "name": "ipython",
    "version": 3
   },
   "file_extension": ".py",
   "mimetype": "text/x-python",
   "name": "python",
   "nbconvert_exporter": "python",
   "pygments_lexer": "ipython3",
   "version": "3.8.8"
  }
 },
 "nbformat": 4,
 "nbformat_minor": 2
}
