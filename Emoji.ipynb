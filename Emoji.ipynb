{
 "cells": [
  {
   "cell_type": "code",
   "execution_count": 1,
   "metadata": {},
   "outputs": [
    {
     "name": "stderr",
     "output_type": "stream",
     "text": [
      "WARNING: Logging before flag parsing goes to stderr.\n",
      "W0621 16:51:35.920003 139705793718080 __init__.py:56] Some hub symbols are not available because TensorFlow version is less than 1.14\n",
      "[nltk_data] Downloading package stopwords to\n",
      "[nltk_data]     /home/stgmadina/nltk_data...\n",
      "[nltk_data]   Unzipping corpora/stopwords.zip.\n"
     ]
    },
    {
     "data": {
      "text/plain": [
       "True"
      ]
     },
     "execution_count": 1,
     "metadata": {},
     "output_type": "execute_result"
    }
   ],
   "source": [
    "import numpy as np\n",
    "import emoji\n",
    "import re\n",
    "import encoder\n",
    "from scipy import spatial\n",
    "import nltk\n",
    "from nltk import word_tokenize\n",
    "from nltk.corpus import stopwords\n",
    "nltk.download('stopwords')"
   ]
  },
  {
   "cell_type": "code",
   "execution_count": 2,
   "metadata": {},
   "outputs": [],
   "source": [
    "class Emoji(object):\n",
    "    def __init__(self):\n",
    "        self.encoder = encoder.Encoder()\n",
    "        self.emoji_dict = emoji.unicode_codes.EMOJI_ALIAS_UNICODE\n",
    "        self.stopwords = stopwords.words('english')\n",
    "        self.stopwords.extend(['I','You', 'you', 'me','hello'])\n",
    "        self.vectors_encoded = self.emoji_encoded()\n",
    "        \n",
    "    def sentence_preprocessed(self, sentence):\n",
    "        tokenized_sentence = nltk.word_tokenize(sentence)\n",
    "        sentence = [w for w in tokenized_sentence if not w in self.stopwords]\n",
    "        return sentence\n",
    "    \n",
    "    def emoji_encoded(self):\n",
    "        emoji_list = list(self.emoji_dict.keys())\n",
    "        emoji_list = [re.sub(\"[: ()]\", \"\", i) for i in emoji_list]\n",
    "        emoji_list = [re.sub(\"[_ , ]\", \" \", i) for i in emoji_list]\n",
    "        list_encoded_emoji = [self.encoder.encode(i)[0] for i in emoji_list]\n",
    "        list_encoded_emoji = np.stack(list_encoded_emoji)\n",
    "        \n",
    "        return list_encoded_emoji\n",
    "    \n",
    "    def cosine_similarity_emoji(self, sentence, emoji):\n",
    "\n",
    "        output_similarity = self.encoder.cosine_similarity(self.encoder.encode(sentence),emoji)\n",
    "        if np.min(output_similarity[1]) < 0.3:\n",
    "            emoji_index = np.argmin(output_similarity[1])\n",
    "            output = list(self.emoji_dict.values())[emoji_index]\n",
    "            return output\n",
    "        else:\n",
    "            return None\n",
    "    \n",
    "    def output_emoji(self, sentence):\n",
    "        sentence_preprocessed = self.sentence_preprocessed(sentence)\n",
    "        output = self.cosine_similarity_emoji(sentence_preprocessed, self.vectors_encoded)\n",
    "        return output"
   ]
  },
  {
   "cell_type": "code",
   "execution_count": 8,
   "metadata": {},
   "outputs": [
    {
     "name": "stdout",
     "output_type": "stream",
     "text": [
      "INFO:tensorflow:Saver not created because there are no variables in the graph to restore\n"
     ]
    },
    {
     "name": "stderr",
     "output_type": "stream",
     "text": [
      "I0616 16:23:31.803457 140361205978944 saver.py:1483] Saver not created because there are no variables in the graph to restore\n"
     ]
    },
    {
     "ename": "AttributeError",
     "evalue": "'Emoji' object has no attribute 'unicode_codes'",
     "output_type": "error",
     "traceback": [
      "\u001b[0;31m---------------------------------------------------------------------------\u001b[0m",
      "\u001b[0;31mAttributeError\u001b[0m                            Traceback (most recent call last)",
      "\u001b[0;32m<ipython-input-8-172a4aaef62a>\u001b[0m in \u001b[0;36m<module>\u001b[0;34m\u001b[0m\n\u001b[0;32m----> 1\u001b[0;31m \u001b[0memoji\u001b[0m \u001b[0;34m=\u001b[0m \u001b[0mEmoji\u001b[0m\u001b[0;34m(\u001b[0m\u001b[0;34m)\u001b[0m\u001b[0;34m\u001b[0m\u001b[0;34m\u001b[0m\u001b[0m\n\u001b[0m",
      "\u001b[0;32m<ipython-input-2-2ead4bdcfb43>\u001b[0m in \u001b[0;36m__init__\u001b[0;34m(self)\u001b[0m\n\u001b[1;32m      2\u001b[0m     \u001b[0;32mdef\u001b[0m \u001b[0m__init__\u001b[0m\u001b[0;34m(\u001b[0m\u001b[0mself\u001b[0m\u001b[0;34m)\u001b[0m\u001b[0;34m:\u001b[0m\u001b[0;34m\u001b[0m\u001b[0;34m\u001b[0m\u001b[0m\n\u001b[1;32m      3\u001b[0m         \u001b[0mself\u001b[0m\u001b[0;34m.\u001b[0m\u001b[0mencoder\u001b[0m \u001b[0;34m=\u001b[0m \u001b[0mencoder\u001b[0m\u001b[0;34m.\u001b[0m\u001b[0mEncoder\u001b[0m\u001b[0;34m(\u001b[0m\u001b[0;34m)\u001b[0m\u001b[0;34m\u001b[0m\u001b[0;34m\u001b[0m\u001b[0m\n\u001b[0;32m----> 4\u001b[0;31m         \u001b[0mself\u001b[0m\u001b[0;34m.\u001b[0m\u001b[0memoji_dict\u001b[0m \u001b[0;34m=\u001b[0m \u001b[0memoji\u001b[0m\u001b[0;34m.\u001b[0m\u001b[0municode_codes\u001b[0m\u001b[0;34m.\u001b[0m\u001b[0mEMOJI_ALIAS_UNICODE\u001b[0m\u001b[0;34m\u001b[0m\u001b[0;34m\u001b[0m\u001b[0m\n\u001b[0m\u001b[1;32m      5\u001b[0m         \u001b[0mself\u001b[0m\u001b[0;34m.\u001b[0m\u001b[0mstopwords\u001b[0m \u001b[0;34m=\u001b[0m \u001b[0mstopwords\u001b[0m\u001b[0;34m.\u001b[0m\u001b[0mwords\u001b[0m\u001b[0;34m(\u001b[0m\u001b[0;34m'english'\u001b[0m\u001b[0;34m)\u001b[0m\u001b[0;34m\u001b[0m\u001b[0;34m\u001b[0m\u001b[0m\n\u001b[1;32m      6\u001b[0m         \u001b[0mself\u001b[0m\u001b[0;34m.\u001b[0m\u001b[0mstopwords\u001b[0m\u001b[0;34m.\u001b[0m\u001b[0mextend\u001b[0m\u001b[0;34m(\u001b[0m\u001b[0;34m[\u001b[0m\u001b[0;34m'I'\u001b[0m\u001b[0;34m,\u001b[0m\u001b[0;34m'You'\u001b[0m\u001b[0;34m,\u001b[0m \u001b[0;34m'you'\u001b[0m\u001b[0;34m,\u001b[0m \u001b[0;34m'me'\u001b[0m\u001b[0;34m,\u001b[0m\u001b[0;34m'hello'\u001b[0m\u001b[0;34m]\u001b[0m\u001b[0;34m)\u001b[0m\u001b[0;34m\u001b[0m\u001b[0;34m\u001b[0m\u001b[0m\n",
      "\u001b[0;31mAttributeError\u001b[0m: 'Emoji' object has no attribute 'unicode_codes'"
     ]
    }
   ],
   "source": [
    "emoji = Emoji()"
   ]
  },
  {
   "cell_type": "code",
   "execution_count": 10,
   "metadata": {},
   "outputs": [
    {
     "data": {
      "text/plain": [
       "'🐱'"
      ]
     },
     "execution_count": 10,
     "metadata": {},
     "output_type": "execute_result"
    }
   ],
   "source": [
    "emoji.output_emoji('I like cats')"
   ]
  },
  {
   "cell_type": "code",
   "execution_count": 2,
   "metadata": {},
   "outputs": [],
   "source": [
    "emoji_dict = emoji.unicode_codes.EMOJI_ALIAS_UNICODE"
   ]
  },
 "metadata": {
  "kernelspec": {
   "display_name": "Python 3",
   "language": "python",
   "name": "python3"
  },
  "language_info": {
   "codemirror_mode": {
    "name": "ipython",
    "version": 3
   },
   "file_extension": ".py",
   "mimetype": "text/x-python",
   "name": "python",
   "nbconvert_exporter": "python",
   "pygments_lexer": "ipython3",
   "version": "3.7.3"
  }
 },
 "nbformat": 4,
 "nbformat_minor": 2
}
